{
 "cells": [
  {
   "cell_type": "code",
   "execution_count": 12,
   "metadata": {},
   "outputs": [
    {
     "ename": "AttributeError",
     "evalue": "'NoneType' object has no attribute 'trace_names'",
     "output_type": "error",
     "traceback": [
      "\u001b[0;31m---------------------------------------------------------------------------\u001b[0m",
      "\u001b[0;31mAttributeError\u001b[0m                            Traceback (most recent call last)",
      "\u001b[0;32m/tmp/ipykernel_409/896512000.py\u001b[0m in \u001b[0;36m<cell line: 111>\u001b[0;34m()\u001b[0m\n\u001b[1;32m    109\u001b[0m \u001b[0mdata\u001b[0m\u001b[0;34m=\u001b[0m\u001b[0mdataplot\u001b[0m\u001b[0;34m(\u001b[0m\u001b[0mdf\u001b[0m\u001b[0;34m)\u001b[0m\u001b[0;34m\u001b[0m\u001b[0;34m\u001b[0m\u001b[0m\n\u001b[1;32m    110\u001b[0m \u001b[0;31m#traces=data.trace_names(new_col='Group',dic=dic)\u001b[0m\u001b[0;34m\u001b[0m\u001b[0;34m\u001b[0m\u001b[0;34m\u001b[0m\u001b[0m\n\u001b[0;32m--> 111\u001b[0;31m \u001b[0mtraces\u001b[0m\u001b[0;34m=\u001b[0m\u001b[0mdata\u001b[0m\u001b[0;34m.\u001b[0m\u001b[0mget_traces\u001b[0m\u001b[0;34m(\u001b[0m\u001b[0;34m)\u001b[0m\u001b[0;34m.\u001b[0m\u001b[0mtrace_names\u001b[0m\u001b[0;34m(\u001b[0m\u001b[0mdic\u001b[0m\u001b[0;34m)\u001b[0m\u001b[0;34m\u001b[0m\u001b[0;34m\u001b[0m\u001b[0m\n\u001b[0m",
      "\u001b[0;31mAttributeError\u001b[0m: 'NoneType' object has no attribute 'trace_names'"
     ]
    }
   ],
   "source": [
    "import os\n",
    "import pandas as pd\n",
    "import numpy as np\n",
    "import plotly.express as px\n",
    "\n",
    "file='/mnt/c/Users/16162/Documents/Data/2022-12-09/ave_prepro_60s_cells.csv'\n",
    "df=pd.read_csv(file,index_col='index')\n",
    "\n",
    "class dataset:\n",
    "    df: pd.DataFrame\n",
    "    '''Imported dataset needs to be \n",
    "        Index = Raman Shift\n",
    "        Column Headers = Unique Sample Name\n",
    "        \n",
    "        Note: Imported Raw Spectra will not be set up like this, different class/function needs o be built.\n",
    "        If opening a datafile from a saved CSV, initiate from __main__ function.\n",
    "        '''\n",
    "    def __init__(self,df, wavelength: str='', power:str='', objective:str='40X',time: str='', date: str='',title='') -> None:\n",
    "        self.df=df\n",
    "        self.wl=wavelength\n",
    "        self.pow=power\n",
    "        self.obj=objective\n",
    "        self.time=time\n",
    "        self.date=date\n",
    "        self.title=title\n",
    "        \n",
    "        self.samples=list(df.columns)\n",
    "        self.rs=list(df.index)\n",
    "        self.yax='Intensity'\n",
    "        self.xax='Raman Shift (cm-1)'\n",
    "        self.uniqueID='Sample'\n",
    "        self.group='Group'\n",
    "    \n",
    "    def __str__(self):\n",
    "        #prints when print(datasetobject) command it used\n",
    "            #data=dataset(df)\n",
    "            #print(data)\n",
    "        return f'Input Dataframe has {self.df.shape[0]} rows and {self.df.shape[1]} columns.\\nThe individual samples are:\\n{self.samples}'\n",
    "    def __repr__(self):\n",
    "        #repr(data)\n",
    "        return f'dataset({type(self.df)}:{self.df.shape}, {self.wl}, {self.pow}, {self.obj}, {self.time}, {self.date}, {self.title})'    \n",
    "    def summary(self):\n",
    "        #data.summary()\n",
    "        print('Summary accessed. Further code attention needed.')\n",
    "    \n",
    "    def get_ys(self,samples=None):\n",
    "        '''Returns a list of arrays, each array = 1 sample intensity across range.'''\n",
    "        if samples == None: #Input list, custom\n",
    "            samples=self.samples\n",
    "        else: #Default, keep sample names the same as the input dataframe\n",
    "            pass\n",
    "        return [df[sam] for sam in samples]\n",
    "    \n",
    "    def get_x(self):\n",
    "        return self.rs\n",
    "    \n",
    "class dataplot(dataset):\n",
    "\n",
    "    def get_traces(self,samples=None):\n",
    "        if samples==None:\n",
    "            samples=self.samples\n",
    "        else:\n",
    "            pass\n",
    "        traces=[]\n",
    "        for sam in samples:\n",
    "            d=pd.DataFrame(self.df[sam])\n",
    "            d.rename({sam:self.yax},inplace=True,axis=1)\n",
    "            d[self.uniqueID]=sam\n",
    "            traces.append(d)\n",
    "        self.long_df=pd.concat(traces)\n",
    "        return self.long_df\n",
    "        \n",
    "    def trace_names(self,dic,df=None,new_col='Group',edit_col='Sample'):\n",
    "        '''Takes the 'get_traces' output and add new column, based on the sample names column.'''\n",
    "        if df==None: #Default\n",
    "            df=self.long_df\n",
    "        else: #Input df specified in fuction, use that\n",
    "            pass\n",
    "        df[new_col]=df[edit_col].replace(dic)\n",
    "        return df\n",
    "\n",
    "    def base_plot(self,title='',color='Group', title_size=40, axis_size=30, \n",
    "        reverse_legend=False, legend=True, width=1200,height=600):\n",
    "        fig=px.line(self.long_df,x=self.long_df.index,y=self.yax,line_group=self.uniqueID)\n",
    "        fig.update_layout(title_font_size=title_size, plot_bgcolor='rgba(0,0,0,0)',\n",
    "            margin=dict(l=20,r=170,b=20,t=80),legend=dict(yanchor='bottom',y=0),\n",
    "            width=width, height=height,showlegend=legend,legend_font=dict(size=20),legend_title=None,\n",
    "            xaxis=dict(tickfont=dict(size=15)),yaxis=dict(tickfont=dict(size=15)))\n",
    "        fig.update_yaxes(showline=True,linewidth=1,linecolor='black',\n",
    "            title_font_size=axis_size,gridcolor='white')\n",
    "        fig.update_xaxes(showline=True,linewidth=1,linecolor='black',\n",
    "            title_text=self.xax, title_font_size=axis_size,gridcolor='white')\n",
    "        if reverse_legend==True:\n",
    "            fig.update_layout(legend_traceorder='reversed')\n",
    "        elif reverse_legend==False:\n",
    "            pass\n",
    "        return fig\n",
    "\n",
    "    def add_dict(self,col,dic):\n",
    "        pass\n",
    "    def someway_to_make_a_dictionary_for_trace_order(self):\n",
    "        pass\n",
    "    def sameway_to_edit_names_for_plot_group(self):\n",
    "        pass\n",
    "    def stacked_plot(self):\n",
    "        pass\n",
    "\n",
    "\n",
    "data=dataplot(df)\n",
    "#traces=data.trace_names(new_col='Group',dic=dic)\n",
    "traces=data.get_traces().trace_names(dic)"
   ]
  },
  {
   "cell_type": "code",
   "execution_count": null,
   "metadata": {},
   "outputs": [],
   "source": []
  },
  {
   "cell_type": "code",
   "execution_count": 11,
   "metadata": {},
   "outputs": [
    {
     "data": {
      "text/plain": [
       "{'08_DexMedia+TreatmentCells': 'DexMedia+TreatmentCells',\n",
       " '10_DexMedia+TreatmentCells': 'DexMedia+TreatmentCells',\n",
       " '11_DexMedia+TreatmentCells': 'DexMedia+TreatmentCells',\n",
       " '12_DexMedia+TreatmentCells': 'DexMedia+TreatmentCells',\n",
       " '18_DexMedia+TreatmentCells': 'DexMedia+TreatmentCells',\n",
       " '19_DexMedia+TreatmentCells': 'DexMedia+TreatmentCells',\n",
       " '20_ControlMedia+TreatmentCells': 'ControlMedia+TreatmentCells',\n",
       " '21_ControlMedia+TreatmentCells': 'ControlMedia+TreatmentCells',\n",
       " '22_ControlMedia+TreatmentCells': 'ControlMedia+TreatmentCells',\n",
       " '23_DexOnlyCells': 'DexOnlyCells',\n",
       " '24_DexOnlyCells': 'DexOnlyCells',\n",
       " '25_DexOnlyCells': 'DexOnlyCells',\n",
       " '26_DexOnlyCells': 'DexOnlyCells',\n",
       " '27_ControlCells': 'ControlCells',\n",
       " '28_ControlCells': 'ControlCells'}"
      ]
     },
     "execution_count": 11,
     "metadata": {},
     "output_type": "execute_result"
    }
   ],
   "source": [
    "dic={}\n",
    "for s in df.columns.to_list():\n",
    "    r={s:s[3:]}\n",
    "    dic.update(r)\n",
    "dic"
   ]
  }
 ],
 "metadata": {
  "kernelspec": {
   "display_name": "spinne-cP8-tGrS",
   "language": "python",
   "name": "python3"
  },
  "language_info": {
   "codemirror_mode": {
    "name": "ipython",
    "version": 3
   },
   "file_extension": ".py",
   "mimetype": "text/x-python",
   "name": "python",
   "nbconvert_exporter": "python",
   "pygments_lexer": "ipython3",
   "version": "3.8.10"
  },
  "orig_nbformat": 4,
  "vscode": {
   "interpreter": {
    "hash": "9284b6df061a369a8a37962a051d3752c840378a54474f33d64ab8f252aaca4e"
   }
  }
 },
 "nbformat": 4,
 "nbformat_minor": 2
}
